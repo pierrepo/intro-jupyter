{
 "cells": [
  {
   "cell_type": "markdown",
   "metadata": {},
   "source": [
    "# Démo de notebook Jupyter\n",
    "\n",
    "Certaines cellules sont du code (ici Python 3), d'autres sont des cellules *Markdown*\n",
    "\n",
    "*Markdown* est un langage à balises qui permet très **simplement** d'éditer du texte.\n",
    "\n",
    "On peut y mettre des liens, par exemple vers le [cours de Python](https://python.sdv.univ-paris-diderot.fr/).\n"
   ]
  },
  {
   "cell_type": "markdown",
   "metadata": {},
   "source": [
    "Des équations :\n",
    "\n",
    "$$\n",
    "E_c = \\frac{1}{2} m v^2\n",
    "$$"
   ]
  },
  {
   "cell_type": "markdown",
   "metadata": {},
   "source": [
    "Mais aussi des images, \n",
    "\n",
    "![](logo.svg)"
   ]
  },
  {
   "cell_type": "markdown",
   "metadata": {},
   "source": [
    "des gifs animés (ici le jeu de la vie),\n",
    "\n",
    "![](https://media.giphy.com/media/BsxVinGwVtd0A/giphy.gif)"
   ]
  },
  {
   "cell_type": "markdown",
   "metadata": {},
   "source": [
    "des tableaux : \n",
    "\n",
    "| Nombre       |     Cursus    |\n",
    "| ------------ | ------------- | \n",
    "| 14           |     M1 BI     |\n",
    "| 3            |     M2 BI     | \n",
    "| 12           |     M2 ISDD   |"
   ]
  },
  {
   "cell_type": "markdown",
   "metadata": {},
   "source": [
    "Les cellules de code peuvent contenir du Python *classique*"
   ]
  },
  {
   "cell_type": "code",
   "execution_count": 1,
   "metadata": {},
   "outputs": [],
   "source": [
    "a = 2\n",
    "b = \"Python\"\n",
    "c = {\"name\": \"Jupyter notebook\", \"version\":1.3}"
   ]
  },
  {
   "cell_type": "code",
   "execution_count": 2,
   "metadata": {},
   "outputs": [
    {
     "name": "stdout",
     "output_type": "stream",
     "text": [
      "PythonPython\n"
     ]
    }
   ],
   "source": [
    "print(a*b)"
   ]
  },
  {
   "cell_type": "markdown",
   "metadata": {},
   "source": [
    "ici je veux du Markdown"
   ]
  },
  {
   "cell_type": "code",
   "execution_count": 3,
   "metadata": {},
   "outputs": [
    {
     "data": {
      "text/plain": [
       "'Jupyter notebook -- version 1.3'"
      ]
     },
     "execution_count": 3,
     "metadata": {},
     "output_type": "execute_result"
    }
   ],
   "source": [
    "\"{} -- version {}\".format(c[\"name\"], c[\"version\"])"
   ]
  },
  {
   "cell_type": "markdown",
   "metadata": {},
   "source": [
    "# Graphiques \n",
    "\n",
    "Les graphiques sont *incrustés* dans le notebook avec la commande `%matplotlib inline`"
   ]
  },
  {
   "cell_type": "code",
   "execution_count": 4,
   "metadata": {},
   "outputs": [],
   "source": [
    "import numpy as np\n",
    "import matplotlib.pyplot as plt\n",
    "%matplotlib inline"
   ]
  },
  {
   "cell_type": "markdown",
   "metadata": {},
   "source": [
    "Dans un notebook, l'appuie des touches `Shift` + `Tab` dans les parenthèses d'appel d'une fonction, affiche une fenêtre d'aide ;-)"
   ]
  },
  {
   "cell_type": "code",
   "execution_count": 5,
   "metadata": {},
   "outputs": [
    {
     "data": {
      "text/plain": [
       "[<matplotlib.lines.Line2D at 0x7ff63aa91f90>]"
      ]
     },
     "execution_count": 5,
     "metadata": {},
     "output_type": "execute_result"
    },
    {
     "data": {
      "image/png": "[encoded data removed]",
      "text/plain": [
       "<Figure size 432x288 with 1 Axes>"
      ]
     },
     "metadata": {
      "needs_background": "light"
     },
     "output_type": "display_data"
    }
   ],
   "source": [
    "x = np.linspace(0, 10, 30)\n",
    "y = 1 * x**2 + 50 * np.cos(x) -4 * x\n",
    "plt.plot(x, y)"
   ]
  },
  {
   "cell_type": "markdown",
   "metadata": {},
   "source": [
    "Matplotlib est un module très puissant qui permet de construire n'importe quel type de graphique.\n",
    "\n",
    "Voici quelques ressources supplémentaires si vous souhaitez approfondir ces possibilités :\n",
    "\n",
    "- [Gallerie](https://matplotlib.org/gallery.html) de graphiques réalisés avec matplotlib et le code correspondant.\n",
    "- [Matplotlib tutorial](https://www.labri.fr/perso/nrougier/teaching/matplotlib/), par Nicolas P. Rougier. Une référence !\n",
    "- [Ten Simple Rules for Better Figures](https://doi.org/10.1371/journal.pcbi.1003833), Rougier *et al.*, 2014, PLOS Comput Biol\n",
    "\n",
    "Enfin, d'autres modules comme [seaborn](https://seaborn.pydata.org/), [Bokeh](https://bokeh.pydata.org/en/latest/) ([démo](https://demo.bokehplots.com/apps/movies)) ou [plotly](https://plot.ly/) permettent de générer des graphiques plus élégants ou interactifs."
   ]
  },
  {
   "cell_type": "markdown",
   "metadata": {},
   "source": [
    "# Les magic commands\n",
    "\n",
    "## %whos\n",
    "\n",
    "La liste des variables définies dans le notebook :"
   ]
  },
  {
   "cell_type": "code",
   "execution_count": 6,
   "metadata": {},
   "outputs": [
    {
     "name": "stdout",
     "output_type": "stream",
     "text": [
      "Variable   Type       Data/Info\n",
      "-------------------------------\n",
      "a          int        2\n",
      "b          str        Python\n",
      "c          dict       n=2\n",
      "np         module     <module 'numpy' from '/ho<...>kages/numpy/__init__.py'>\n",
      "plt        module     <module 'matplotlib.pyplo<...>es/matplotlib/pyplot.py'>\n",
      "x          ndarray    30: 30 elems, type `float64`, 240 bytes\n",
      "y          ndarray    30: 30 elems, type `float64`, 240 bytes\n"
     ]
    }
   ],
   "source": [
    "%whos"
   ]
  },
  {
   "cell_type": "markdown",
   "metadata": {},
   "source": [
    "## %history\n",
    "\n",
    "La liste des commandes lancées jusqu'à présent :"
   ]
  },
  {
   "cell_type": "code",
   "execution_count": 7,
   "metadata": {},
   "outputs": [
    {
     "name": "stdout",
     "output_type": "stream",
     "text": [
      "a = 2\n",
      "b = \"Python\"\n",
      "c = {\"name\": \"Jupyter notebook\", \"version\":1.3}\n",
      "print(a*b)\n",
      "\"{} -- version {}\".format(c[\"name\"], c[\"version\"])\n",
      "import numpy as np\n",
      "import matplotlib.pyplot as plt\n",
      "%matplotlib inline\n",
      "x = np.linspace(0, 10, 30)\n",
      "y = 1 * x**2 + 50 * np.cos(x) -4 * x\n",
      "plt.plot(x, y)\n",
      "%whos\n",
      "%history\n"
     ]
    }
   ],
   "source": [
    "%history"
   ]
  },
  {
   "cell_type": "markdown",
   "metadata": {},
   "source": [
    "## %%timeit\n",
    "\n",
    "Un bon moyen d'optimiser l'exécution de certains morceaux de code.\n",
    "\n",
    "Comment supprimer le plus rapidement possible une valeur donnée d'une liste ? `while` vs `for`"
   ]
  },
  {
   "cell_type": "code",
   "execution_count": 8,
   "metadata": {},
   "outputs": [
    {
     "name": "stdout",
     "output_type": "stream",
     "text": [
      "1.24 µs ± 35.9 ns per loop (mean ± std. dev. of 7 runs, 1000000 loops each)\n"
     ]
    }
   ],
   "source": [
    "%%timeit \n",
    "lst = [1, 2, 3, 4, 5, 6, 9, 1, 8, 7, 1, 0, 1, -1, 1]\n",
    "while 1 in lst:\n",
    "    lst.remove(1)"
   ]
  },
  {
   "cell_type": "code",
   "execution_count": 9,
   "metadata": {},
   "outputs": [
    {
     "name": "stdout",
     "output_type": "stream",
     "text": [
      "1.09 µs ± 15.7 ns per loop (mean ± std. dev. of 7 runs, 1000000 loops each)\n"
     ]
    }
   ],
   "source": [
    "%%timeit \n",
    "lst = [1, 2, 3, 4, 5, 6, 9, 1, 8, 7, 1, 0, 1, -1, 1]\n",
    "nb_1 = lst.count(1)\n",
    "for i in range(nb_1):\n",
    "    lst.remove(1)"
   ]
  },
  {
   "cell_type": "markdown",
   "metadata": {},
   "source": [
    "# Du Python, mais pas que..."
   ]
  },
  {
   "cell_type": "markdown",
   "metadata": {},
   "source": [
    "## Bash\n",
    "\n",
    "Une cellule de code peut passer de Python à Bash :"
   ]
  },
  {
   "cell_type": "code",
   "execution_count": 10,
   "metadata": {},
   "outputs": [
    {
     "name": "stdout",
     "output_type": "stream",
     "text": [
      "/home/pierre/workp/paris7/enseignements/M2BI_Programmation_gestion_projet/intro-jupyter.git\n",
      "pierre / jeera\n",
      "10\n"
     ]
    }
   ],
   "source": [
    "%%bash\n",
    "pwd\n",
    "echo \"$USER / $HOSTNAME\"\n",
    "ls | wc -l "
   ]
  },
  {
   "cell_type": "markdown",
   "metadata": {},
   "source": [
    "## Python 2 (le retour)\n",
    "\n",
    "Une cellule de code peut passer de Python 3 à Python 2 :"
   ]
  },
  {
   "cell_type": "code",
   "execution_count": 11,
   "metadata": {},
   "outputs": [
    {
     "name": "stdout",
     "output_type": "stream",
     "text": [
      "hello\n"
     ]
    }
   ],
   "source": [
    "%%python2\n",
    "print \"hello\""
   ]
  },
  {
   "cell_type": "markdown",
   "metadata": {},
   "source": [
    "mais le reste du notebook est bien en Python 3 :"
   ]
  },
  {
   "cell_type": "code",
   "execution_count": 12,
   "metadata": {},
   "outputs": [
    {
     "ename": "SyntaxError",
     "evalue": "Missing parentheses in call to 'print'. Did you mean print(\"Python ?\")? (<ipython-input-12-f041655eca41>, line 1)",
     "output_type": "error",
     "traceback": [
      "\u001b[0;36m  File \u001b[0;32m\"<ipython-input-12-f041655eca41>\"\u001b[0;36m, line \u001b[0;32m1\u001b[0m\n\u001b[0;31m    print \"Python ?\"\u001b[0m\n\u001b[0m                   ^\u001b[0m\n\u001b[0;31mSyntaxError\u001b[0m\u001b[0;31m:\u001b[0m Missing parentheses in call to 'print'. Did you mean print(\"Python ?\")?\n"
     ]
    }
   ],
   "source": [
    "print \"Python ?\""
   ]
  },
  {
   "cell_type": "markdown",
   "metadata": {},
   "source": [
    "## HTML\n",
    "\n",
    "Une cellule de code peut passer de Python à HTML :"
   ]
  },
  {
   "cell_type": "code",
   "execution_count": 13,
   "metadata": {},
   "outputs": [
    {
     "data": {
      "text/html": [
       "<img src = \"https://freethoughtblogs.com/affinity/files/2017/06/good-news-everyone.jpg\">\n",
       "<h1>Jupyter Notebooks can render HTML</h1>\n"
      ],
      "text/plain": [
       "<IPython.core.display.HTML object>"
      ]
     },
     "metadata": {},
     "output_type": "display_data"
    }
   ],
   "source": [
    "%%html\n",
    "<img src = \"https://freethoughtblogs.com/affinity/files/2017/06/good-news-everyone.jpg\">\n",
    "<h1>Jupyter Notebooks can render HTML</h1>"
   ]
  }
 ],
 "metadata": {
  "kernelspec": {
   "display_name": "Python 3",
   "language": "python",
   "name": "python3"
  },
  "language_info": {
   "codemirror_mode": {
    "name": "ipython",
    "version": 3
   },
   "file_extension": ".py",
   "mimetype": "text/x-python",
   "name": "python",
   "nbconvert_exporter": "python",
   "pygments_lexer": "ipython3",
   "version": "3.7.4"
  }
 },
 "nbformat": 4,
 "nbformat_minor": 4
}
