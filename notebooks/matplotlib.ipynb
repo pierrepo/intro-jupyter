{
 "cells": [
  {
   "cell_type": "markdown",
   "metadata": {
    "tags": []
   },
   "source": [
    "# Introduction à la bibliothèque Matplotlib\n",
    "\n",
    "Ces exemples sont tirés du chapitre du cours [Quelques modules d'intérêt en bioinformatique ](https://python.sdv.univ-paris-diderot.fr/17_modules_interet_bioinfo/#173-module-matplotlib)\n",
    "\n",
    "Chargement d'un sous-module de la bibliothèque Matplotlib avec un alias"
   ]
  },
  {
   "cell_type": "code",
   "execution_count": null,
   "metadata": {},
   "outputs": [],
   "source": [
    "import matplotlib.pyplot as plt"
   ]
  },
  {
   "cell_type": "markdown",
   "metadata": {},
   "source": [
    "Instruction spéciale pour afficher les images dans les notebooks Jupyter.\n",
    "\n",
    "À ne charger qu'une seule fois par notebook (a priori plus nécessaire dans les dernières versions des notebooks)."
   ]
  },
  {
   "cell_type": "code",
   "execution_count": null,
   "metadata": {},
   "outputs": [],
   "source": [
    "%matplotlib inline"
   ]
  },
  {
   "cell_type": "markdown",
   "metadata": {},
   "source": [
    "## Création d'un graphique simple"
   ]
  },
  {
   "cell_type": "code",
   "execution_count": null,
   "metadata": {},
   "outputs": [],
   "source": [
    "# Construction des données.\n",
    "temps = [1, 2, 3, 4, 6, 7, 9]\n",
    "concentration = [5.5, 7.2, 11.8, 13.6, 19.1, 21.7, 29.4]\n",
    "\n",
    "# Affichage des points.\n",
    "plt.scatter(temps, concentration, marker=\"o\", color=\"blue\")\n",
    "\n",
    "# Affichage des étiquettes des axes.\n",
    "plt.xlabel(\"Temps (h)\")\n",
    "plt.ylabel(\"Concentration (mg/L)\")\n",
    "\n",
    "# Affichage du titre.\n",
    "plt.title(\"Concentration de produit en fonction du temps\")\n",
    "\n",
    "# La ligne suivante est pour un script uniquement.\n",
    "# plt.show()"
   ]
  },
  {
   "cell_type": "markdown",
   "metadata": {},
   "source": [
    "On souhaite ajouter le point \n",
    "\n",
    "- temps : 10 heures, concentration : 33,5 mg/L\n",
    "\n",
    "au jeu de données puis générer un nouveau graphique avec comme titre *Concentration de glucose en fonction du temps*\n",
    "\n",
    "Entrez votre code dans la cellule ci-dessous puis exécutez-la. Si vous sèchez, cliquez sur `↓ SOLUTION ↓`."
   ]
  },
  {
   "cell_type": "code",
   "execution_count": null,
   "metadata": {},
   "outputs": [],
   "source": []
  },
  {
   "cell_type": "markdown",
   "metadata": {},
   "source": [
    "<details>\n",
    "<summary>&darr; SOLUTION &darr;</summary>\n",
    "Voici une proposition de réponse :\n",
    "\n",
    "<pre>\n",
    "\n",
    "# Modification des deux listes avec .append()\n",
    "temps.append(10)\n",
    "# Attention au . qui est le séparateur décimal en Python.\n",
    "concentration.append(33.5)\n",
    "\n",
    "# Affichage du graphique avec le nouveau titre\n",
    "plt.scatter(temps, concentration, marker=\"o\", color=\"blue\")\n",
    "plt.xlabel(\"Temps (h)\")\n",
    "plt.ylabel(\"Concentration (mg/L)\")\n",
    "plt.title(\"Concentration de glucose en fonction du temps\")\n",
    "</pre>\n",
    "\n",
    "</details>"
   ]
  },
  {
   "cell_type": "markdown",
   "metadata": {},
   "source": [
    "## Avec une droite et un export du graphique en plus\n",
    "\n",
    "On utilise ici le module `numpy` qui permet de créer une liste (*array*) de valeurs :\n",
    "```\n",
    "x = np.linspace(min(temps), max(temps), 50)\n",
    "```\n",
    "Cet *array* pourra ensuite être manipulé directement dans une expression mathématique :\n",
    "```\n",
    "y = 2 + 3 * x\n",
    "```\n",
    "ce que les listes habituelles ne permettent pas."
   ]
  },
  {
   "cell_type": "code",
   "execution_count": null,
   "metadata": {},
   "outputs": [],
   "source": [
    "import numpy as np\n",
    "\n",
    "x = np.linspace(min(temps), max(temps), 50)\n",
    "y = 2 + 3 * x\n",
    "\n",
    "# Affichage des points.\n",
    "plt.scatter(temps, concentration, marker='o', color = 'blue')\n",
    "plt.xlabel(\"Temps (h)\")\n",
    "plt.ylabel(\"Concentration (mg/L)\")\n",
    "plt.title(\"Concentration de produit en fonction du temps\")\n",
    "\n",
    "# Affichage de la droite.\n",
    "plt.plot(x, y, color='green', ls=\"--\")\n",
    "\n",
    "# Export du graphique.\n",
    "plt.savefig('concentration_vs_temps.png', bbox_inches='tight', dpi=200)"
   ]
  },
  {
   "cell_type": "markdown",
   "metadata": {},
   "source": [
    "Remarquez que l'image créée apparait dans la liste des fichiers."
   ]
  },
  {
   "cell_type": "markdown",
   "metadata": {},
   "source": [
    "## Diagramme en bâtons"
   ]
  },
  {
   "cell_type": "code",
   "execution_count": null,
   "metadata": {},
   "outputs": [],
   "source": [
    "sequence = \"ACGATCATAGCGAGCTACGTAGAA\"\n",
    "bases = [\"A\", \"C\", \"G\", \"T\"]\n",
    "\n",
    "# Comptage du nombre de bases.\n",
    "distribution = []\n",
    "for base in bases:\n",
    "    distribution.append(sequence.count(base))\n",
    "\n",
    "# Construction du graphique.\n",
    "x = list(range(len(bases)))\n",
    "plt.bar(x, distribution)\n",
    "plt.xticks(x, bases)\n",
    "plt.xlabel(\"Bases\")\n",
    "plt.ylabel(\"Nombre\")\n",
    "plt.title(\"Distribution des bases\\n dans la séquence {}\".format(sequence))\n",
    "plt.savefig('distribution_bases.png', bbox_inches=\"tight\", dpi=200)"
   ]
  },
  {
   "cell_type": "markdown",
   "metadata": {},
   "source": [
    "## La spirale\n",
    "\n",
    "Résolvez l'exercice de la [spirale](https://python.sdv.univ-paris-diderot.fr/07_fichiers/#773-spirale-exercice) du chapitre sur les fichiers dans les cellules ci-dessous.\n",
    "\n",
    "La première cellule est dédiée à la construction de la spirale et l'enregistrement des coordonnées dans un fichier. La seconde à l'affichage de cette spirale avec Matplotlib.\n",
    "\n",
    "*Attendez un peu avant de cliquer sur ↓ SOLUTION ↓*"
   ]
  },
  {
   "cell_type": "code",
   "execution_count": null,
   "metadata": {},
   "outputs": [],
   "source": []
  },
  {
   "cell_type": "markdown",
   "metadata": {},
   "source": [
    "<details>\n",
    "<summary>&darr; SOLUTION &darr;</summary>\n",
    "Voici une proposition de réponse :\n",
    "\n",
    "<pre>\n",
    "import math\n",
    "with open(\"spirale.dat\", \"w\") as f_out:\n",
    "    theta = 0\n",
    "    rayon = 0.5\n",
    "    # theta va de 0 à 4 pi, soit deux tours\n",
    "    while theta < math.pi * 4:\n",
    "        x = math.cos(theta) * rayon\n",
    "        y = math.sin(theta) * rayon\n",
    "        f_out.write(\"{:10.5f} {:10.5f}\\n\".format(x, y))\n",
    "        # on incrémente l'angle theta et le rayon du cercle\n",
    "        theta += 0.1\n",
    "        rayon += 0.1\n",
    "</pre>\n",
    "\n",
    "</details>"
   ]
  },
  {
   "cell_type": "code",
   "execution_count": null,
   "metadata": {},
   "outputs": [],
   "source": []
  },
  {
   "cell_type": "markdown",
   "metadata": {},
   "source": [
    "<details>\n",
    "<summary>&darr; SOLUTION &darr;</summary>\n",
    "Voici une proposition de réponse :\n",
    "\n",
    "<pre>\n",
    "# On ne charge pas le module matplotlib,\n",
    "# car il a déjà été chargé au début du notebook.\n",
    "\n",
    "x = []\n",
    "y = []\n",
    "with open(\"spirale.dat\", \"r\") as f_in:\n",
    "    for line in f_in:\n",
    "        coords = line.split()\n",
    "        x.append(float(coords[0]))\n",
    "        y.append(float(coords[1]))\n",
    "\n",
    "plt.figure(figsize=(8,8))\n",
    "mini = min(x+y) * 1.2\n",
    "maxi = max(x+y) * 1.2\n",
    "plt.xlim(mini, maxi)\n",
    "plt.ylim(mini, maxi)\n",
    "plt.plot(x, y)\n",
    "plt.savefig(\"spirale.png\")\n",
    "</pre>\n",
    "\n",
    "</details>"
   ]
  },
  {
   "cell_type": "markdown",
   "metadata": {},
   "source": [
    "Proposez maintenant une solution qui, dans une unique cellule, n'utilise plus de fichier pour stocker les données, mais construit quand même le graphique."
   ]
  },
  {
   "cell_type": "code",
   "execution_count": null,
   "metadata": {},
   "outputs": [],
   "source": []
  },
  {
   "cell_type": "markdown",
   "metadata": {},
   "source": [
    "<details>\n",
    "<summary>&darr; SOLUTION &darr;</summary>\n",
    "Voici une proposition de réponse :\n",
    "\n",
    "<pre>\n",
    "import math\n",
    "\n",
    "x = []\n",
    "y = []\n",
    "\n",
    "theta = 0\n",
    "rayon = 0.5\n",
    "\n",
    "# theta va de 0 à 4 pi, soit deux tours\n",
    "while theta < math.pi * 4:\n",
    "    x.append(math.cos(theta) * rayon)\n",
    "    y.append(math.sin(theta) * rayon)\n",
    "    # on incrémente l'angle theta et le rayon du cercle\n",
    "    theta += 0.1\n",
    "    rayon += 0.1\n",
    "\n",
    "plt.figure(figsize=(8,8))\n",
    "mini = min(x+y) * 1.2\n",
    "maxi = max(x+y) * 1.2\n",
    "plt.xlim(mini, maxi)\n",
    "plt.ylim(mini, maxi)\n",
    "plt.plot(x, y)\n",
    "plt.savefig(\"spirale.png\")\n",
    "</pre>\n",
    "\n",
    "</details>"
   ]
  },
  {
   "cell_type": "markdown",
   "metadata": {},
   "source": [
    "## Enregistrement des versions des bibliothèques utilisées\n",
    "\n",
    "Pour améliorer la reproductibilité du notebook, on liste les bibliothèques utilisées ainsi que la version de Python."
   ]
  },
  {
   "cell_type": "code",
   "execution_count": null,
   "metadata": {
    "tags": []
   },
   "outputs": [],
   "source": [
    "%load_ext watermark\n",
    "%watermark --python --machine\n",
    "%watermark --packages jupyterlab --iversions --watermark"
   ]
  },
  {
   "cell_type": "markdown",
   "metadata": {},
   "source": [
    "---\n",
    "\n",
    "Bravo, vous avez fait vos premiers pas avec matplotlib. C'est une bibliothèque graphique très puissante qui permet de créer quasiment tout type de graphs.\n",
    "\n",
    "Vous en aurez un rapide aperçu ici : [Matplotlib sample plots](https://matplotlib.org/tutorials/introductory/sample_plots.html). À chaque fois des exemples de codes sont fournis.\n",
    "\n",
    "En 2019, Matplotlib a été mise à l'honneur car elle a été utilisée par les scientifiques pour produire la première image d'un trou noir :\n",
    "\n",
    "![](black-hole.png)\n",
    "\n",
    "Source : [NumFOCUS tools help create the first ever image of a black hole](https://numfocus.org/case-studies/first-photograph-black-hole)\n",
    "\n",
    "Voici quelques ressources supplémentaires si vous souhaitez approfondir ces possibilités :\n",
    "\n",
    "- [Matplotlib tutorial](https://www.labri.fr/perso/nrougier/teaching/matplotlib/), par Nicolas P. Rougier. Une référence !\n",
    "- [Ten Simple Rules for Better Figures](https://doi.org/10.1371/journal.pcbi.1003833), Rougier *et al.*, 2014, PLOS Comput Biol\n",
    "\n",
    "Enfin, d'autres modules comme [seaborn](https://seaborn.pydata.org/), [Bokeh](https://bokeh.pydata.org/en/latest/) ou [plotly](https://plot.ly/) permettent de générer des graphiques plus élégants ou interactifs."
   ]
  },
  {
   "cell_type": "code",
   "execution_count": null,
   "metadata": {},
   "outputs": [],
   "source": []
  }
 ],
 "metadata": {
  "kernelspec": {
   "display_name": "Python 3 (ipykernel)",
   "language": "python",
   "name": "python3"
  },
  "language_info": {
   "codemirror_mode": {
    "name": "ipython",
    "version": 3
   },
   "file_extension": ".py",
   "mimetype": "text/x-python",
   "name": "python",
   "nbconvert_exporter": "python",
   "pygments_lexer": "ipython3",
   "version": "3.11.5"
  }
 },
 "nbformat": 4,
 "nbformat_minor": 4
}
