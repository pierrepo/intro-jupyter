{
 "cells": [
  {
   "cell_type": "markdown",
   "metadata": {},
   "source": [
    "# Introduction à Markdown (dans un notebook Jupyter)\n",
    "\n",
    "Quelques aides mémoires sur le format Markdown :\n",
    "\n",
    "- https://fr.wikipedia.org/wiki/Markdown\n",
    "- https://guides.github.com/features/mastering-markdown/\n",
    "\n",
    "---\n",
    "\n",
    "<div style=\"background-color:#a1f4c5;\">\n",
    "    \n",
    "Essayez de reproduire le texte ci-dessous dans la cellule grisée.\n",
    "\n",
    "Par défaut, une cellule contient du code. Il faut explicitement indiquer qu'elle contient du texte au format Markdown en changeant son type de **Code** à **Markdown** dans la barre de menu du notebook.\n",
    "\n",
    "</div>"
   ]
  },
  {
   "cell_type": "markdown",
   "metadata": {},
   "source": [
    "# Démo Markdown (titre de niveau 1)\n",
    " \n",
    "## Voici un titre de niveau 2 \n",
    " \n",
    "### Et un autre de niveau  3\n",
    " \n",
    "Voici du texte en *italique* et en **gras**. C'est pratique le Markdown !\n"
   ]
  },
  {
   "cell_type": "code",
   "execution_count": null,
   "metadata": {},
   "outputs": [],
   "source": []
  },
  {
   "cell_type": "markdown",
   "metadata": {},
   "source": [
    "💡 Astuce : pour modifier une cellule Markdown une fois qu’elle a été exécutée, double-cliquez dessus ou cliquez dessus une fois puis appuyez sur la touche <kbd>Entrée</kbd>."
   ]
  },
  {
   "cell_type": "markdown",
   "metadata": {},
   "source": [
    "---\n",
    "\n",
    "<div style=\"background-color:#a1f4c5;\">\n",
    " \n",
    "Continuez avec ce texte supplémentaire.\n",
    "\n",
    "Ici encore, faites attention au type de la cellule (Markdown).\n",
    "\n",
    "</div>"
   ]
  },
  {
   "cell_type": "markdown",
   "metadata": {},
   "source": [
    "On peut également ajouter des [liens](http://jupyter.org/) (vers `https://jupyter.com`) et aussi des images. Le nom de l'image est logo.png\n",
    " \n",
    "![](logo.png)\n",
    " \n",
    "On peut compliquer un peu les choses avec une formule mathématique : \n",
    "\n",
    "$\n",
    "E = mc^2\n",
    "$\n",
    "\n",
    "Du code informatique : \n",
    "```\n",
    "expA = expMat[1, 1:rep]\n",
    "expB = expMat[1, (rep+1):(2*rep)]\n",
    "```\n",
    "\n",
    "Et même, pourquoi pas, un tableau :\n",
    "\n",
    "| Gene | CondA | CondB |\n",
    "|------|-------|-------|\n",
    "| plouf | 3 | 4 |\n",
    "| ploc | 5 | 6 |"
   ]
  },
  {
   "cell_type": "code",
   "execution_count": null,
   "metadata": {},
   "outputs": [],
   "source": []
  }
 ],
 "metadata": {
  "kernelspec": {
   "display_name": "Python 3",
   "language": "python",
   "name": "python3"
  },
  "language_info": {
   "codemirror_mode": {
    "name": "ipython",
    "version": 3
   },
   "file_extension": ".py",
   "mimetype": "text/x-python",
   "name": "python",
   "nbconvert_exporter": "python",
   "pygments_lexer": "ipython3",
   "version": "3.7.9"
  }
 },
 "nbformat": 4,
 "nbformat_minor": 4
}
