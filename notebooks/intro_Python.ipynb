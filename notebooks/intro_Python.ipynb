{
 "cells": [
  {
   "cell_type": "markdown",
   "metadata": {},
   "source": [
    "# Introduction aux notebooks Jupyter (Python)\n",
    "\n",
    "Vous êtes ici dans un notebook Jupyter avec un noyau Python, c'est-à-dire que les cellules de code sont exécutées avec Python.\n",
    "\n",
    "## Introduction pas-à-pas\n",
    "\n",
    "Entrez l'instruction `print(\"Salut Python\")` dans la cellule de code grisée ci-dessous. \n",
    "\n",
    "Pressez ensuite les touches <kbd>Shift</kbd>+<kbd>Entrée</kbd> pour exécuter votre instruction."
   ]
  },
  {
   "cell_type": "code",
   "execution_count": null,
   "metadata": {},
   "outputs": [],
   "source": []
  },
  {
   "cell_type": "markdown",
   "metadata": {},
   "source": [
    "Remarque : \n",
    "- la combinaison de touches <kbd>Ctrl</kbd>+<kbd>Entrée</kbd> exécute une cellule.\n",
    "- la combinaison de touches <kbd>Shift</kbd>+<kbd>Entrée</kbd> exécute une cellule puis passe à la suivante.\n",
    "- la combinaison de touches <kbd>Alt</kbd>+<kbd>Entrée</kbd> exécute une cellule puis en crée une nouvelle (vide) en dessous.\n",
    "\n",
    "Pour ajouter une cellule, vous pouvez aussi cliquer sur l'icone ➕ dans la barre de menu du notebook.\n",
    "\n",
    "Entrez maintenant dans la cellule ci-dessous l'instruction `a = 3` puis exécutez-la."
   ]
  },
  {
   "cell_type": "code",
   "execution_count": null,
   "metadata": {},
   "outputs": [],
   "source": []
  },
  {
   "cell_type": "markdown",
   "metadata": {},
   "source": [
    "Entrez ensuite dans la cellule ci-dessous l'instruction `b = 7` puis exécutez-la."
   ]
  },
  {
   "cell_type": "code",
   "execution_count": null,
   "metadata": {},
   "outputs": [],
   "source": []
  },
  {
   "cell_type": "markdown",
   "metadata": {},
   "source": [
    "Enfin, entrez dans la cellule ci-dessous l'instruction `print(a+b)` puis exécutez-la."
   ]
  },
  {
   "cell_type": "code",
   "execution_count": null,
   "metadata": {},
   "outputs": [],
   "source": []
  },
  {
   "cell_type": "markdown",
   "metadata": {},
   "source": [
    "Une variable définie dans une cellule d'un notebook est visible dans toutes les cellules du notebook."
   ]
  },
  {
   "cell_type": "markdown",
   "metadata": {},
   "source": [
    "---\n",
    "\n",
    "## On passe la seconde\n",
    "\n",
    "Comme vous avez déjà fait pas mal de Python, nous allons pouvoir entrer dans le vif du sujet.\n",
    "\n",
    "Vous pouvez refaire l'exercice [5.4.10 Pyramide](https://python.sdv.univ-paris-diderot.fr/05_boucles_comparaisons/#5410-pyramide), dont voici l'énoncé :\n",
    "\n",
    "Créez un script qui dessine une pyramide comme celle-ci :\n",
    "```\n",
    "         *\n",
    "        ***\n",
    "       *****\n",
    "      *******\n",
    "     *********\n",
    "    ***********\n",
    "   *************\n",
    "  ***************\n",
    " *****************\n",
    "*******************\n",
    "```\n",
    "\n",
    "Pour vous aider, voici un élément de réponse :\n",
    "```\n",
    "N=10\n",
    "for i in range(1, N+1):\n",
    "    nb_espaces = N-i\n",
    "    nb_etoiles = (2*i)-1\n",
    "    print(\" \" * nb_espaces + \"*\" * nb_etoiles)\n",
    "```\n",
    "Essayez de faire évoluer votre script pour dessiner la pyramide à partir d'un nombre arbitraire de lignes `N`. Vous pourrez demander à l'utilisateur le nombre de lignes de la pyramide avec les instructions suivantes qui utilisent la fonction `input()` :\n",
    "```\n",
    "reponse = input(\"Entrez un nombre de lignes (entier positif): \")\n",
    "N = int(reponse)\n",
    "```\n",
    "\n",
    "Entrez votre code dans la cellule ci-dessous puis exécutez-la. Si vraiment vous sèchez, cliquez sur `↓ SOLUTION ↓`."
   ]
  },
  {
   "cell_type": "code",
   "execution_count": null,
   "metadata": {},
   "outputs": [],
   "source": []
  },
  {
   "cell_type": "markdown",
   "metadata": {},
   "source": [
    "<details>\n",
    "<summary>&darr; SOLUTION &darr;</summary>\n",
    "Voici une proposition de réponse :\n",
    "\n",
    "<pre>\n",
    "\n",
    "reponse = input(\"Entrez un nombre de lignes (entier positif): \")\n",
    "N = int(reponse)\n",
    "for i in range(1, N+1):\n",
    "    nb_espaces = N-i\n",
    "    nb_etoiles = (2*i)-1\n",
    "    print(\" \" * nb_espaces + \"*\" * nb_etoiles)\n",
    "</pre>\n",
    "\n",
    "</details>"
   ]
  },
  {
   "cell_type": "markdown",
   "metadata": {},
   "source": [
    "---\n",
    "\n",
    "## Du Python, mais pas que...\n",
    "\n",
    "Les notebooks Jupyter Python supportent aussi nativement des cellules avec des instruction Bash ou HTML.\n",
    "\n",
    "### Instructions Bash"
   ]
  },
  {
   "cell_type": "code",
   "execution_count": null,
   "metadata": {},
   "outputs": [],
   "source": [
    "%%bash\n",
    "\n",
    "pwd\n",
    "echo \"Utilisateur $USER sur la machine $HOSTNAME\"\n",
    "ls | wc -l "
   ]
  },
  {
   "cell_type": "markdown",
   "metadata": {},
   "source": [
    "On peut aussi ponctuellement exécuter une commande Bash depuis une cellule de code en préfixant cette commande par `!` :"
   ]
  },
  {
   "cell_type": "code",
   "execution_count": null,
   "metadata": {},
   "outputs": [],
   "source": [
    "!pwd"
   ]
  },
  {
   "cell_type": "code",
   "execution_count": null,
   "metadata": {},
   "outputs": [],
   "source": [
    "!whoami"
   ]
  },
  {
   "cell_type": "markdown",
   "metadata": {},
   "source": [
    "### Instructions HTML"
   ]
  },
  {
   "cell_type": "code",
   "execution_count": null,
   "metadata": {},
   "outputs": [],
   "source": [
    "%%html\n",
    "\n",
    "<img src = \"https://freethoughtblogs.com/affinity/files/2017/06/good-news-everyone.jpg\">\n",
    "<h1>Jupyter notebooks can render HTML</h1>"
   ]
  },
  {
   "cell_type": "markdown",
   "metadata": {},
   "source": [
    "---\n",
    "\n",
    "Bravo, vous savez utiliser un notebook Jupyter Python 🎉\n",
    "\n",
    "Le chapitre du cours [Jupyter et ses notebooks](https://python.sdv.univ-paris-diderot.fr/18_jupyter/) pourra sans doute vous intéresser.\n",
    "\n",
    "Quelques astuces supplémentaires :\n",
    "\n",
    "- Pour enregistrer votre notebook, cliquez sur la petite disquette située sous le nom de votre notebook (`intro.ipynb`). Si vous avez lancé ce notebook depuis une version en ligne de Jupyter, vous pouvez sauver localement votre notebook en cliquant droit sur le nom du notebook (à gauche), puis en cliquant sur *Download*.\n",
    "- Essayez d'exporter votre notebook en cliquant sur *File → Export Notebook As → Export Notebook to HTML* (ou l'équivalent en français).\n",
    "- Relancez le *kernel* de votre notebook et toutes les cellules, en cliquant sur *Kernel → Restart Kernel and Run All Cells* (ou l'équivalent en français)."
   ]
  }
 ],
 "metadata": {
  "kernelspec": {
   "display_name": "Python 3",
   "language": "python",
   "name": "python3"
  },
  "language_info": {
   "codemirror_mode": {
    "name": "ipython",
    "version": 3
   },
   "file_extension": ".py",
   "mimetype": "text/x-python",
   "name": "python",
   "nbconvert_exporter": "python",
   "pygments_lexer": "ipython3",
   "version": "3.8.10"
  }
 },
 "nbformat": 4,
 "nbformat_minor": 4
}
