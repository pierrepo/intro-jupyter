{
 "cells": [
  {
   "cell_type": "markdown",
   "id": "0a291d70-42e8-46c5-8223-c399a962159d",
   "metadata": {
    "tags": []
   },
   "source": [
    "# Introduction aux notebooks Jupyter (R)\n",
    "\n",
    "Vous êtes ici dans un notebook Jupyter avec un noyau R, c'est-à-dire que les cellules de code sont exécutées avec R. Le nom du noyau est indiqué en haut à droite du notebook.\n",
    "\n",
    "Les cellules de texte sont, elles, toujours en Markdown.\n",
    "\n",
    "## Introduction pas-à-pas\n",
    "\n",
    "Entrez l'instruction `print(\"Salut R\")` dans la cellule de code grisée ci-dessous. \n",
    "\n",
    "Pressez ensuite les touches <kbd>Shift</kbd>+<kbd>Entrée</kbd> pour exécuter votre instruction.\n"
   ]
  },
  {
   "cell_type": "code",
   "execution_count": null,
   "id": "a34a7716-2f90-41de-99d3-aedd632e4d17",
   "metadata": {
    "vscode": {
     "languageId": "r"
    }
   },
   "outputs": [],
   "source": []
  },
  {
   "cell_type": "markdown",
   "id": "b99f5941-36a5-461d-b041-4cc5233dc21b",
   "metadata": {},
   "source": [
    "Remarque : \n",
    "- la combinaison de touches <kbd>Ctrl</kbd>+<kbd>Entrée</kbd> exécute une cellule.\n",
    "- la combinaison de touches <kbd>Shift</kbd>+<kbd>Entrée</kbd> exécute une cellule puis passe à la suivante.\n",
    "- la combinaison de touches <kbd>Alt</kbd>+<kbd>Entrée</kbd> exécute une cellule puis en crée une nouvelle (vide) en dessous.\n",
    "\n",
    "Pour ajouter une cellule, vous pouvez aussi cliquer sur l'icone ➕ dans la barre de menu du notebook.\n",
    "\n",
    "Entrez maintenant dans la cellule ci-dessous l'instruction `a <- 3` puis exécutez-la."
   ]
  },
  {
   "cell_type": "code",
   "execution_count": null,
   "id": "b6286147-cd8d-4e02-808d-d29ae19752a9",
   "metadata": {
    "vscode": {
     "languageId": "r"
    }
   },
   "outputs": [],
   "source": []
  },
  {
   "cell_type": "markdown",
   "id": "5f24ae51-895b-4d23-809d-50b1b805410a",
   "metadata": {},
   "source": [
    "Entrez ensuite dans la cellule ci-dessous l'instruction `b <- 7` puis exécutez-la."
   ]
  },
  {
   "cell_type": "code",
   "execution_count": null,
   "id": "045b8a02-2c48-40a5-b33c-7842e6f323a8",
   "metadata": {
    "vscode": {
     "languageId": "r"
    }
   },
   "outputs": [],
   "source": []
  },
  {
   "cell_type": "markdown",
   "id": "7b403ec0-54c6-450c-85f6-036e7ed7abc5",
   "metadata": {},
   "source": [
    "Enfin, entrez dans la cellule ci-dessous l'instruction `print(a+b)` puis exécutez-la."
   ]
  },
  {
   "cell_type": "code",
   "execution_count": null,
   "id": "4d2e95da-88d3-4af0-9b8a-c906b196415e",
   "metadata": {
    "vscode": {
     "languageId": "r"
    }
   },
   "outputs": [],
   "source": []
  },
  {
   "cell_type": "markdown",
   "id": "8e202c8c-c5d3-4882-9dd3-c873128e1e3c",
   "metadata": {},
   "source": [
    "## Exemples de graphiques avec ggplot\n",
    "\n",
    "### Chargement de la bibliothèque ggplot\n",
    "\n",
    "Entrez dans la cellule ci-dessous l'instruction `library(ggplot2)` puis exécutez-la."
   ]
  },
  {
   "cell_type": "code",
   "execution_count": null,
   "id": "96aaa636-4eea-495d-9139-c090f93aba68",
   "metadata": {
    "tags": [],
    "vscode": {
     "languageId": "r"
    }
   },
   "outputs": [],
   "source": []
  },
  {
   "cell_type": "markdown",
   "id": "05093d42-6517-4917-9921-4681f355e59f",
   "metadata": {},
   "source": [
    "### Création d'un jeu de données aléatoire\n",
    "\n",
    "Exécutez la cellule ci-dessous."
   ]
  },
  {
   "cell_type": "code",
   "execution_count": null,
   "id": "872235d3-cf52-4e43-853f-6d3f2ad46a52",
   "metadata": {
    "tags": [],
    "vscode": {
     "languageId": "r"
    }
   },
   "outputs": [],
   "source": [
    "data<-data.frame(value=rnorm(100))"
   ]
  },
  {
   "cell_type": "markdown",
   "id": "efb88a5b-9a87-48c4-a86a-02f86876f36f",
   "metadata": {},
   "source": [
    "### Graphique avec un histogramme\n",
    "\n",
    "Exemple pris sur https://www.r-graph-gallery.com/220-basic-ggplot2-histogram.html\n",
    "\n",
    "Exécutez la cellule ci-dessous."
   ]
  },
  {
   "cell_type": "code",
   "execution_count": null,
   "id": "8c4e8e25-5f48-48a7-9755-159f0ee80308",
   "metadata": {
    "tags": [],
    "vscode": {
     "languageId": "r"
    }
   },
   "outputs": [],
   "source": [
    "ggplot(data, aes(x=value)) + geom_histogram(binwidth=0.2)"
   ]
  },
  {
   "cell_type": "markdown",
   "id": "2688dc3f-c5e0-4720-84e3-f92a82a0fb42",
   "metadata": {},
   "source": [
    "### Utilisation du jeu de données Iris\n",
    "\n",
    "Ce jeu de données est nativement présent dans R.\n",
    "\n",
    "Entrez dans la cellule ci-dessous l'instruction `head(iris)` puis exécutez-la."
   ]
  },
  {
   "cell_type": "code",
   "execution_count": null,
   "id": "c0c2c8b9-8a19-42c0-984f-9b8d7ee0bec6",
   "metadata": {
    "vscode": {
     "languageId": "r"
    }
   },
   "outputs": [],
   "source": []
  },
  {
   "cell_type": "markdown",
   "id": "651de38c-1b95-4dee-b64f-2384c1d96ba0",
   "metadata": {},
   "source": [
    "### Graphique avec un nuage de points\n",
    "\n",
    "Exemple pris sur https://www.r-graph-gallery.com/273-custom-your-scatterplot-ggplot2.html\n",
    "\n",
    "Exécutez la cellule ci-dessous."
   ]
  },
  {
   "cell_type": "code",
   "execution_count": null,
   "id": "153b5418-c96b-4770-9b79-aac05b1ae297",
   "metadata": {
    "vscode": {
     "languageId": "r"
    }
   },
   "outputs": [],
   "source": [
    "ggplot(iris, aes(x=Sepal.Length, y=Sepal.Width)) + \n",
    "    geom_point(\n",
    "        color=\"orange\",\n",
    "        fill=\"#69b3a2\",\n",
    "        shape=21,\n",
    "        alpha=0.5,\n",
    "        size=6,\n",
    "        stroke = 2\n",
    "        )"
   ]
  },
  {
   "cell_type": "markdown",
   "id": "f97e8603-911b-4a96-b4ff-783d06b71833",
   "metadata": {},
   "source": [
    "## Bonne pratique\n",
    "\n",
    "Une bonne pratique pour améliorer la reproductibilité d'un notebook est d'afficher à la fin (ou au début) du notebook la liste des bilbiothèques utilisées ainsi que la version de R.\n",
    "\n",
    "Il existe pour cela une fonction toute prête :"
   ]
  },
  {
   "cell_type": "code",
   "execution_count": null,
   "id": "7f0f2830-b5b5-4dc7-a6e7-4a289338b632",
   "metadata": {
    "tags": []
   },
   "outputs": [],
   "source": [
    "sessionInfo()"
   ]
  },
  {
   "cell_type": "markdown",
   "id": "11921950-e94c-4913-876c-3b38da7778e7",
   "metadata": {},
   "source": [
    "---\n",
    "\n",
    "Bravo, vous savez utiliser un notebook Jupyter R 🎉\n",
    "\n",
    "Quelques astuces supplémentaires :\n",
    "\n",
    "- Pour enregistrer votre notebook, cliquez sur la petite disquette dans la barre d'outils située sous le nom de votre notebook (`intro_R.ipynb`). Si vous avez lancé ce notebook depuis une version en ligne de Jupyter, vous pouvez sauver localement votre notebook en cliquant droit sur le nom du notebook (à gauche), puis en cliquant sur *Download*.\n",
    "- Essayez d'exporter votre notebook en cliquant sur *File → Save and Export Notebook As... → HTML* (ou l'équivalent en français).\n",
    "- Relancez le *kernel* de votre notebook et toutes les cellules, en cliquant sur *Kernel → Restart Kernel and Run All Cells...* (ou l'équivalent en français)."
   ]
  },
  {
   "cell_type": "code",
   "execution_count": null,
   "id": "5e47185c-7206-472e-97ee-99b583f03c6e",
   "metadata": {},
   "outputs": [],
   "source": []
  }
 ],
 "metadata": {
  "kernelspec": {
   "display_name": "R",
   "language": "R",
   "name": "ir"
  },
  "language_info": {
   "codemirror_mode": "r",
   "file_extension": ".r",
   "mimetype": "text/x-r-source",
   "name": "R",
   "pygments_lexer": "r",
   "version": "4.2.0"
  }
 },
 "nbformat": 4,
 "nbformat_minor": 5
}
